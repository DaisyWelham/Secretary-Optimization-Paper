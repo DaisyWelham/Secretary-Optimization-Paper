{
 "cells": [
  {
   "cell_type": "markdown",
   "id": "27328a1d-cc1c-44ed-86a7-5131ea820607",
   "metadata": {},
   "source": [
    "# Secretary Optimizer"
   ]
  },
  {
   "cell_type": "markdown",
   "id": "1ce1307a-c444-4a4e-befe-49ed3ac84feb",
   "metadata": {},
   "source": [
    "The secretary problem is a class of problems which works as follows:-\n",
    "- We are interviewing for a new secretary.\n",
    "- After each interview we must either \"hire\" the secretary and stop interviewing more secretaries, or \"reject\" the secretary and then we cannot hire them.\n",
    "- We can interview at most N secretaries.\n",
    "- We don't have data about the distribution of possible secretaries, but for any two secretaries we can decide which we prefer.\n",
    "\n",
    "For such problems, the known solution which gives the best chance of hiring the best secretary is:-\n",
    "- reject the first N/e secretaries\n",
    "- Then, hire the first secretary which is preferable to every secretary we have interviewed so far.\n",
    "\n",
    "We use the solution to the secretary problem to build an optimization algorithm here. For any greedy algorithm (gradient descent, hill climbing, simulated annealing with low temperature etc.) we can divide the problem into \"basins\". If we are anywhere in a basin, we will eventually converge to that basin's local optimum with our greedy algorithm. So, we can formulate global optimization as two problems:-\n",
    "\n",
    "1: find the basin which contains the global optimum\n",
    "\n",
    "2: then find the optimum within that basin\n",
    "\n",
    "If we assume that basins are approximately flat and of equal size, we can reframe step 1 as the secretary problem: we \"interview\" basins in a random order by dividing the space with grid search then sampling randomly, rejecting the first N/e, then we \"hire\" the first basin which is preferable to all the others. Once the basin is \"hired\", we use a greedy algorithm (here, simulated annealing with low temperature) to find the local optimum within that basin."
   ]
  },
  {
   "cell_type": "code",
   "execution_count": 1,
   "id": "862a320f-9c76-4c61-9673-b1920fc00438",
   "metadata": {},
   "outputs": [],
   "source": [
    "import numpy as np\n",
    "import random as r"
   ]
  },
  {
   "cell_type": "markdown",
   "id": "d715bcad-a6bf-4e0f-8c1f-ceba92d7a690",
   "metadata": {},
   "source": [
    "## Griewank"
   ]
  },
  {
   "cell_type": "markdown",
   "id": "382a9bc2-8fc3-430c-b65a-d51f09d7cf18",
   "metadata": {},
   "source": [
    "Griewank is an interesting optimization problem due to its many local optima and variable dimensions. One interesting area in optimization is how well algorithms perform when there are a large number of dimensions and few objective function calls. Thus, we test 100-dimensional Griewank with 1000 function calls. For more on Griewank: https://www.sfu.ca/~ssurjano/griewank.html"
   ]
  },
  {
   "cell_type": "code",
   "execution_count": 2,
   "id": "47c88739-31b9-4dff-9849-0755bf0fd36d",
   "metadata": {},
   "outputs": [],
   "source": [
    "class Griewank:\n",
    "    def sample(self, x):\n",
    "        prodTerm = 1\n",
    "        for i in range(len(x)):\n",
    "            prodTerm *= np.cos(x[i] / np.sqrt(i + 1))\n",
    "        sumTerm = 0\n",
    "        for i in range(len(x)):\n",
    "            sumTerm += (x[i] ** 2) / 4000\n",
    "        return(sumTerm - prodTerm + 1)\n",
    "\n",
    "    def range(self):\n",
    "        return (-600, 600)\n",
    "    \n",
    "maxFunctionCalls = 1000"
   ]
  },
  {
   "cell_type": "markdown",
   "id": "886f8183-3f30-44cf-ad4b-d0d3b9b0a825",
   "metadata": {},
   "source": [
    "## Random Search"
   ]
  },
  {
   "cell_type": "markdown",
   "id": "6f9682ce-cacb-4b90-8815-6a27c188aecc",
   "metadata": {},
   "source": [
    "Random Search (RS) is computationally cheap and a useful control. If your algorithm doesn't outperform RS, it's back to the drawing board!"
   ]
  },
  {
   "cell_type": "code",
   "execution_count": 3,
   "id": "4e201b6b-9b64-4aff-9f45-ccb7a799b885",
   "metadata": {},
   "outputs": [
    {
     "name": "stdout",
     "output_type": "stream",
     "text": [
      "585.9281134133468\n"
     ]
    }
   ],
   "source": [
    "class RandomSearch:\n",
    "        \n",
    "    def generateRandomHypothesis(self, nDimensions, ran):\n",
    "        output = []\n",
    "        for i in range(nDimensions):\n",
    "            output.append(r.uniform(ran[0], ran[1]))\n",
    "        return(output)\n",
    "    \n",
    "    def optimize(self,\n",
    "                objectiveFunction,\n",
    "                nDimensions,\n",
    "                numIterations = maxFunctionCalls):\n",
    "        bestX = None\n",
    "        bestY = -float(\"inf\")\n",
    "        for i in range(numIterations):\n",
    "            newX = self.generateRandomHypothesis(nDimensions, objectiveFunction.range())\n",
    "            newY = objectiveFunction.sample(newX)\n",
    "            if newY > bestY:\n",
    "                bestX = newX\n",
    "                bestY = newY\n",
    "        return(bestX, bestY)\n",
    "rs = RandomSearch()\n",
    "griewank = Griewank()\n",
    "bestX, bestY = rs.optimize(griewank, 10)\n",
    "print(bestY)"
   ]
  },
  {
   "cell_type": "markdown",
   "id": "0d0b9087-03ab-45cb-9520-eb5e7c4dc3f0",
   "metadata": {},
   "source": [
    "## Simulated Annealing"
   ]
  },
  {
   "cell_type": "markdown",
   "id": "0574fc01-00dc-4861-adf9-7f9b68ee8066",
   "metadata": {},
   "source": [
    "Since we need to code Simulated Annealing (SA) for the Secretary Optimizer anyway, we may as well see how it performs on its own."
   ]
  },
  {
   "cell_type": "code",
   "execution_count": 4,
   "id": "a237610a-10da-4fb8-a3ab-7c35c058c9d0",
   "metadata": {},
   "outputs": [
    {
     "name": "stdout",
     "output_type": "stream",
     "text": [
      "2.0001032880802168\n"
     ]
    }
   ],
   "source": [
    "class SimulatedAnnealing:\n",
    "    \n",
    "    def optimize(self, objectiveFunction, nDimensions, numIterations = maxFunctionCalls, standardDeviation = 0.1, coolingFactor = 0.9):\n",
    "        currentX = [np.mean(objectiveFunction.range()) for x in range(nDimensions)]\n",
    "        currentY = objectiveFunction.sample(currentX)\n",
    "        heat = 1\n",
    "        for i in range(numIterations):\n",
    "            heat = heat * coolingFactor\n",
    "            newX = [r.gauss(x, standardDeviation) for x in currentX]\n",
    "            newY = objectiveFunction.sample(newX)\n",
    "            if newY > currentY:\n",
    "                currentY = newY\n",
    "                currentX = newX\n",
    "            else:\n",
    "                prob = r.uniform(0, 1)\n",
    "                if prob > np.e ** -(currentY - newY)/(heat + (10 ** -10)):\n",
    "                    currentY = newY\n",
    "                    currentX = newX\n",
    "        return(currentX, currentY)\n",
    "\n",
    "sa = SimulatedAnnealing()\n",
    "bestX, bestY = sa.optimize(griewank, 10)\n",
    "print(bestY)"
   ]
  },
  {
   "cell_type": "markdown",
   "id": "00ee52e0-508e-464a-bf56-1818fda59a95",
   "metadata": {},
   "source": [
    "## Secretary Optimizer"
   ]
  },
  {
   "cell_type": "markdown",
   "id": "c8acedb3-107b-4162-83b1-ca8cb726c958",
   "metadata": {},
   "source": [
    "Here's the fun part, where we test Secretary Optimization and compare to the other algorithms."
   ]
  },
  {
   "cell_type": "code",
   "execution_count": 5,
   "id": "5ac23b21-ac1f-4ffb-b131-7bfa79918b5f",
   "metadata": {},
   "outputs": [
    {
     "name": "stdout",
     "output_type": "stream",
     "text": [
      "0.012434880440789886\n"
     ]
    }
   ],
   "source": [
    "class SecretaryOptimizer:\n",
    "    def __init__(\n",
    "        self,\n",
    "        greedy\n",
    "    ):\n",
    "        self.greedy = greedy\n",
    "\n",
    "    #Required for distributing the points for the initial interview phase\n",
    "    def generateGrid(self, functionRange, nDimesnions, nPoints):\n",
    "        low, high = functionRange\n",
    "        points = np.zeros((nPoints, nDimesnions))\n",
    "        steps = np.ceil(nPoints ** (1 / nDimesnions)).astype(int)\n",
    "        for dim in range(nDimesnions):\n",
    "            linspace = np.linspace(low, high, steps)\n",
    "            repeats = np.ceil(nPoints / steps).astype(int)\n",
    "            values = np.tile(linspace, repeats)[:nPoints]\n",
    "            np.random.shuffle(values)\n",
    "            points[:, dim] = values\n",
    "        return(points)\n",
    "        \n",
    "    def optimize(self, objectiveFunction, nDimensions, numIterations = maxFunctionCalls):\n",
    "        grid = self.generateGrid(objectiveFunction.range(), nDimensions, numIterations)\n",
    "        np.random.shuffle(grid)\n",
    "        bestY = float(\"inf\")\n",
    "        #\"Reject\" the first N/e secretaries\n",
    "        for i in range(int(numIterations/np.e)):\n",
    "            thisX = grid[i]\n",
    "            thisY = objectiveFunction.sample(thisX)\n",
    "            if thisY < bestY:\n",
    "                bestY = thisY\n",
    "                bestX = thisX\n",
    "        #\"Hire\" the first secretary which is better than all these\n",
    "        j = int(numIterations/np.e)\n",
    "        exitCondition = False\n",
    "        while j < numIterations - 1 and not exitCondition:\n",
    "            #Keep checking secretaries until we find a better one\n",
    "            j += 1\n",
    "            thisX = grid[j]\n",
    "            thisY = objectiveFunction.sample(thisX)\n",
    "            if thisY < bestY:\n",
    "                bestY = thisY\n",
    "                bestX = thisX\n",
    "                exitCondition = True\n",
    "        #If we hit exitCondition, we behave like a greedy algorithm - in this case, simulated annealing with low temperature\n",
    "        bestX = self.greedy.optimize(objectiveFunction, nDimensions, numIterations - j)\n",
    "        return(bestX)\n",
    "\n",
    "secretary = SecretaryOptimizer(sa)\n",
    "bestX, bestY = secretary.optimize(griewank, 10, 1000)\n",
    "print(bestY)"
   ]
  },
  {
   "cell_type": "code",
   "execution_count": null,
   "id": "c381b541-892e-4f7a-bff6-f7b4bb0ade71",
   "metadata": {},
   "outputs": [],
   "source": []
  }
 ],
 "metadata": {
  "kernelspec": {
   "display_name": "Python 3 (ipykernel)",
   "language": "python",
   "name": "python3"
  },
  "language_info": {
   "codemirror_mode": {
    "name": "ipython",
    "version": 3
   },
   "file_extension": ".py",
   "mimetype": "text/x-python",
   "name": "python",
   "nbconvert_exporter": "python",
   "pygments_lexer": "ipython3",
   "version": "3.12.3"
  }
 },
 "nbformat": 4,
 "nbformat_minor": 5
}
